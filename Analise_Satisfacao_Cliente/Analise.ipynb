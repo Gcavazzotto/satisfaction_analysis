{
 "cells": [
  {
   "cell_type": "code",
   "execution_count": 1,
   "metadata": {},
   "outputs": [],
   "source": [
    "#Biblioteca de pacotes\n",
    "\n",
    "#Pacote de Implementaçao de máquina Preditiva\n",
    "import streamlit as st \n",
    "# Pacote de Pln - NLTK - Natural Language Tool Kit\n",
    "import nltk\n",
    "\n"
   ]
  },
  {
   "cell_type": "markdown",
   "metadata": {},
   "source": [
    "# 3 Fases:\n",
    "\n",
    "> Criação do sistema\n",
    "\n",
    ">Criação da Máquina Preditiva/PLN\n",
    "\n",
    ">Utilização do sistema\n",
    "\n",
    "\n"
   ]
  },
  {
   "cell_type": "markdown",
   "metadata": {},
   "source": [
    "# Fase 1:\n"
   ]
  },
  {
   "cell_type": "code",
   "execution_count": null,
   "metadata": {},
   "outputs": [],
   "source": [
    "# TItulo do sistema\n",
    "\n",
    "st.write(\"Análise de Satifação do Cliente \")\n",
    "\n",
    "user_input = "
   ]
  }
 ],
 "metadata": {
  "kernelspec": {
   "display_name": "basic",
   "language": "python",
   "name": "python3"
  },
  "language_info": {
   "codemirror_mode": {
    "name": "ipython",
    "version": 3
   },
   "file_extension": ".py",
   "mimetype": "text/x-python",
   "name": "python",
   "nbconvert_exporter": "python",
   "pygments_lexer": "ipython3",
   "version": "3.10.13"
  }
 },
 "nbformat": 4,
 "nbformat_minor": 2
}
